{
  "nbformat": 4,
  "nbformat_minor": 0,
  "metadata": {
    "colab": {
      "provenance": []
    },
    "kernelspec": {
      "name": "python3",
      "display_name": "Python 3"
    },
    "language_info": {
      "name": "python"
    }
  },
  "cells": [
    {
      "cell_type": "code",
      "execution_count": null,
      "metadata": {
        "id": "KUW7P6kDyH0u"
      },
      "outputs": [],
      "source": []
    },
    {
      "cell_type": "markdown",
      "source": [
        "1.Create a simple page with some div tags and show different ways to add CSS as well as what happens\n",
        "when you target the same elements with inline, internal, and external CSS. Also, utilize comments in the\n",
        "project where required?\n",
        "\n",
        "Ans--Sure! Here's a simple example of an HTML page that uses all three types of CSS (inline, internal, and external), targets the same elements, and includes comments to explain everything.\n",
        "\n",
        "index.html\n"
      ],
      "metadata": {
        "id": "4ZU8-9HnyNbr"
      }
    },
    {
      "cell_type": "code",
      "source": [
        "<!DOCTYPE html>\n",
        "<html lang=\"en\">\n",
        "<head>\n",
        "    <meta charset=\"UTF-8\">\n",
        "    <title>CSS Priority Example</title>\n",
        "\n",
        "    <!-- Link to external CSS -->\n",
        "    <link rel=\"stylesheet\" href=\"styles.css\">\n",
        "\n",
        "    <!-- Internal CSS -->\n",
        "    <style>\n",
        "        /* Internal CSS targeting the .box class */\n",
        "        .box {\n",
        "            background-color: lightblue;\n",
        "            color: navy;\n",
        "            padding: 20px;\n",
        "            margin-bottom: 10px;\n",
        "            border: 2px solid navy;\n",
        "        }\n",
        "    </style>\n",
        "</head>\n",
        "<body>\n",
        "\n",
        "    <h1>CSS Priority: Inline vs Internal vs External</h1>\n",
        "\n",
        "    <!-- Inline CSS applied directly to the element -->\n",
        "    <div class=\"box\" style=\"background-color: yellow; color: red;\">\n",
        "        This box has INLINE, INTERNAL, and EXTERNAL CSS.\n",
        "    </div>\n",
        "\n",
        "    <div class=\"box\">\n",
        "        This box has only INTERNAL and EXTERNAL CSS.\n",
        "    </div>\n",
        "\n",
        "    <div class=\"box no-internal\">\n",
        "        This box is only affected by EXTERNAL CSS.\n",
        "    </div>\n",
        "\n",
        "    <!-- Explanation section -->\n",
        "    <div>\n",
        "        <p>\n",
        "            Open the browser inspector to see how styles are applied and overridden.\n",
        "        </p>\n",
        "    </div>\n",
        "\n",
        "</body>\n",
        "</html>\n"
      ],
      "metadata": {
        "id": "MEHJkjzozF63"
      },
      "execution_count": null,
      "outputs": []
    },
    {
      "cell_type": "markdown",
      "source": [
        "style.css(external CSS)"
      ],
      "metadata": {
        "id": "9isUiMwazJYE"
      }
    },
    {
      "cell_type": "code",
      "source": [
        "/* External CSS targeting .box */\n",
        ".box {\n",
        "    background-color: lightgreen;\n",
        "    color: black;\n",
        "    font-family: Arial, sans-serif;\n",
        "}\n",
        "\n",
        "/* Class used only in the third box */\n",
        ".no-internal {\n",
        "    border: 2px dashed darkgreen;\n",
        "}\n"
      ],
      "metadata": {
        "id": "n-ePr9YxzTBN"
      },
      "execution_count": null,
      "outputs": []
    },
    {
      "cell_type": "markdown",
      "source": [
        "what happens\n",
        "\n",
        "When the same element is targeted by all three styles:\n",
        "\n",
        "1.Inline CSS always has the highest priority.\n",
        "\n",
        "2.Internal CSS overrides external CSS if both target the same properties.\n",
        "\n",
        "3.External CSS is applied if neither internal nor inline styles override it.\n",
        "\n",
        "So, in the first <div:\n",
        "\n",
        "* background-color is set to yellow (inline overrides internal & external).\n",
        "\n",
        "* color is set to red (inline again wins).\n",
        "\n",
        "In the second <div:\n",
        "\n",
        "* No inline styles, so internal wins over external.\n",
        "\n",
        "* background-color is lightblue, not lightgreen from external.\n",
        "\n",
        "In the third <div:\n",
        "\n",
        "* Internal rules are avoided by giving it a separate class (no-internal).\n",
        "\n",
        "* So only external CSS applies (plus the .no-internal styles).\n",
        "\n"
      ],
      "metadata": {
        "id": "du7JszX6zYmy"
      }
    },
    {
      "cell_type": "markdown",
      "source": [
        "2.Build an HTML page with multiple paragraphs, each assigned a unique class name. Write CSS rules using\n",
        "class selectors to apply distinct styling to each paragraph. Follow the BEM naming convention and\n",
        "explain how you've named the classes?\n",
        "\n",
        "Ans--BEM stands for:\n",
        "\n",
        "Block – the standalone component (e.g., article, button, card)\n",
        "\n",
        "Element – a part of the block (e.g., article__paragraph)\n",
        "\n",
        "Modifier – a variation of the block or element (e.g., article__paragraph--highlighted)\n",
        "\n",
        "index.html"
      ],
      "metadata": {
        "id": "9TfFeR1wz9BX"
      }
    },
    {
      "cell_type": "code",
      "source": [
        "<!DOCTYPE html>\n",
        "<html lang=\"en\">\n",
        "<head>\n",
        "    <meta charset=\"UTF-8\">\n",
        "    <title>BEM Styled Paragraphs</title>\n",
        "    <link rel=\"stylesheet\" href=\"styles.css\">\n",
        "</head>\n",
        "<body>\n",
        "\n",
        "    <h1>Styled Paragraphs Using BEM</h1>\n",
        "\n",
        "    <div class=\"article\">\n",
        "        <p class=\"article__paragraph article__paragraph--intro\">\n",
        "            This is the intro paragraph. It gives an overview of the topic.\n",
        "        </p>\n",
        "\n",
        "        <p class=\"article__paragraph article__paragraph--warning\">\n",
        "            Warning: This paragraph highlights important cautionary information.\n",
        "        </p>\n",
        "\n",
        "        <p class=\"article__paragraph article__paragraph--success\">\n",
        "            Success! This message indicates a successful action or outcome.\n",
        "        </p>\n",
        "\n",
        "        <p class=\"article__paragraph article__paragraph--quote\">\n",
        "            \"This is a quote-styled paragraph to emphasize someone’s words.\"\n",
        "        </p>\n",
        "    </div>\n",
        "\n",
        "</body>\n",
        "</html>\n"
      ],
      "metadata": {
        "id": "XjWO778V0Sxf"
      },
      "execution_count": null,
      "outputs": []
    },
    {
      "cell_type": "markdown",
      "source": [
        "style.css"
      ],
      "metadata": {
        "id": "gg4Yy7JK0X5L"
      }
    },
    {
      "cell_type": "code",
      "source": [
        "/* Base block element */\n",
        ".article__paragraph {\n",
        "    font-family: Arial, sans-serif;\n",
        "    margin: 15px 0;\n",
        "    padding: 10px;\n",
        "    border-radius: 5px;\n",
        "}\n",
        "\n",
        "/* Modifier for intro paragraph */\n",
        ".article__paragraph--intro {\n",
        "    background-color: #f0f8ff;\n",
        "    color: #333;\n",
        "    font-style: italic;\n",
        "}\n",
        "\n",
        "/* Modifier for warning message */\n",
        ".article__paragraph--warning {\n",
        "    background-color: #fff3cd;\n",
        "    color: #856404;\n",
        "    border: 1px solid #ffeeba;\n",
        "}\n",
        "\n",
        "/* Modifier for success message */\n",
        ".article__paragraph--success {\n",
        "    background-color: #d4edda;\n",
        "    color: #155724;\n",
        "    border: 1px solid #c3e6cb;\n",
        "}\n",
        "\n",
        "/* Modifier for quote style */\n",
        ".article__paragraph--quote {\n",
        "    background-color: #f8f9fa;\n",
        "    color: #6c757d;\n",
        "    border-left: 5px solid #dee2e6;\n",
        "    padding-left: 15px;\n",
        "    font-style: italic;\n",
        "}\n"
      ],
      "metadata": {
        "id": "kfufK0Hb0aEu"
      },
      "execution_count": null,
      "outputs": []
    },
    {
      "cell_type": "markdown",
      "source": [
        "BEM Naming Explanation:\n",
        "\n",
        "* article: the block, representing a self-contained unit (like an article or section).\n",
        "\n",
        "* article__paragraph: an element within the block.\n",
        "\n",
        "Modifiers:\n",
        "\n",
        "--intro: for an introductory paragraph.\n",
        "\n",
        "--warning: for warning content.\n",
        "\n",
        "--success: for success messages.\n",
        "\n",
        "--quote: for quoted text.\n",
        "\n",
        "Each paragraph inherits base styles from .article__paragraph, and then gets additional styling based on its modifier."
      ],
      "metadata": {
        "id": "YnIopdtH0egv"
      }
    },
    {
      "cell_type": "markdown",
      "source": [
        "3. Develop an HTML form with various input elements. Use CSS to style the form, including setting\n",
        "background colors for input fields. Create a custom color palette for the form elements, and demonstrate\n",
        "how to apply opacity to one of the form sections?\n",
        "\n",
        "Ans--Absolutely! Below is a complete example of an HTML form with:\n",
        "\n",
        "* Various input elements (text, email, password, select, checkbox, textarea, submit).\n",
        "\n",
        "* Styled using CSS, including:\n",
        "\n",
        "* Custom color palette\n",
        "\n",
        "* Background colors for input fields\n",
        "\n",
        "* Opacity applied to a form section\n",
        "\n",
        "We'll also include comments in the code to guide you through."
      ],
      "metadata": {
        "id": "4szDq1ZD0q6i"
      }
    },
    {
      "cell_type": "markdown",
      "source": [
        "index.html"
      ],
      "metadata": {
        "id": "iRSi0IGi1EPA"
      }
    },
    {
      "cell_type": "code",
      "source": [
        "<!DOCTYPE html>\n",
        "<html lang=\"en\">\n",
        "<head>\n",
        "    <meta charset=\"UTF-8\">\n",
        "    <title>Styled Form Example</title>\n",
        "    <link rel=\"stylesheet\" href=\"styles.css\">\n",
        "</head>\n",
        "<body>\n",
        "\n",
        "    <h1>User Registration Form</h1>\n",
        "\n",
        "    <form class=\"form\">\n",
        "        <!-- Basic Details Section -->\n",
        "        <fieldset class=\"form__section form__section--basic\">\n",
        "            <legend>Basic Details</legend>\n",
        "\n",
        "            <label for=\"name\" class=\"form__label\">Name:</label>\n",
        "            <input type=\"text\" id=\"name\" class=\"form__input\" placeholder=\"Enter your name\">\n",
        "\n",
        "            <label for=\"email\" class=\"form__label\">Email:</label>\n",
        "            <input type=\"email\" id=\"email\" class=\"form__input\" placeholder=\"Enter your email\">\n",
        "\n",
        "            <label for=\"password\" class=\"form__label\">Password:</label>\n",
        "            <input type=\"password\" id=\"password\" class=\"form__input\" placeholder=\"Choose a password\">\n",
        "        </fieldset>\n",
        "\n",
        "        <!-- Preferences Section with Opacity -->\n",
        "        <fieldset class=\"form__section form__section--preferences\">\n",
        "            <legend>Preferences</legend>\n",
        "\n",
        "            <label for=\"color\" class=\"form__label\">Favorite Color:</label>\n",
        "            <select id=\"color\" class=\"form__select\">\n",
        "                <option>Blue</option>\n",
        "                <option>Green</option>\n",
        "                <option>Orange</option>\n",
        "                <option>Purple</option>\n",
        "            </select>\n",
        "\n",
        "            <label class=\"form__checkbox\">\n",
        "                <input type=\"checkbox\">\n",
        "                Subscribe to newsletter\n",
        "            </label>\n",
        "        </fieldset>\n",
        "\n",
        "        <!-- Comments -->\n",
        "        <fieldset class=\"form__section\">\n",
        "            <legend>Additional Comments</legend>\n",
        "            <textarea class=\"form__textarea\" rows=\"4\" placeholder=\"Your message...\"></textarea>\n",
        "        </fieldset>\n",
        "\n",
        "        <!-- Submit Button -->\n",
        "        <button type=\"submit\" class=\"form__submit\">Register</button>\n",
        "    </form>\n",
        "\n",
        "</body>\n",
        "</html>\n"
      ],
      "metadata": {
        "id": "i9OjjcMI1GfR"
      },
      "execution_count": null,
      "outputs": []
    },
    {
      "cell_type": "markdown",
      "source": [
        "style.css"
      ],
      "metadata": {
        "id": "0DMIDXbL1Icf"
      }
    },
    {
      "cell_type": "code",
      "source": [
        "/* 🎨 Custom color palette */\n",
        ":root {\n",
        "    --primary: #1e90ff;\n",
        "    --secondary: #f0f0f0;\n",
        "    --accent: #ff8c00;\n",
        "    --text-dark: #333;\n",
        "    --text-light: #fff;\n",
        "    --border-color: #ccc;\n",
        "    --bg-form: #ffffff;\n",
        "    --bg-input: #f9f9f9;\n",
        "    --bg-preferences: rgba(30, 144, 255, 0.1); /* opacity example */\n",
        "}\n",
        "\n",
        "/* Global styles */\n",
        "body {\n",
        "    font-family: 'Segoe UI', sans-serif;\n",
        "    background-color: var(--secondary);\n",
        "    color: var(--text-dark);\n",
        "    padding: 20px;\n",
        "}\n",
        "\n",
        "/* Form wrapper */\n",
        ".form {\n",
        "    background-color: var(--bg-form);\n",
        "    padding: 20px;\n",
        "    border-radius: 8px;\n",
        "    max-width: 500px;\n",
        "    margin: auto;\n",
        "    box-shadow: 0 4px 10px rgba(0, 0, 0, 0.1);\n",
        "}\n",
        "\n",
        "/* Fieldset sections */\n",
        ".form__section {\n",
        "    margin-bottom: 20px;\n",
        "    padding: 15px;\n",
        "    border: 1px solid var(--border-color);\n",
        "    border-radius: 6px;\n",
        "}\n",
        "\n",
        "/* Section with opacity */\n",
        ".form__section--preferences {\n",
        "    background-color: var(--bg-preferences); /* semi-transparent background */\n",
        "}\n",
        "\n",
        "/* Labels and inputs */\n",
        ".form__label {\n",
        "    display: block;\n",
        "    margin-bottom: 5px;\n",
        "    font-weight: bold;\n",
        "}\n",
        "\n",
        ".form__input,\n",
        ".form__select,\n",
        ".form__textarea {\n",
        "    width: 100%;\n",
        "    padding: 10px;\n",
        "    margin-bottom: 15px;\n",
        "    border: 1px solid var(--border-color);\n",
        "    border-radius: 4px;\n",
        "    background-color: var(--bg-input);\n",
        "}\n",
        "\n",
        "/* Checkbox label styling */\n",
        ".form__checkbox {\n",
        "    display: block;\n",
        "    margin-top: 10px;\n",
        "}\n",
        "\n",
        "/* Submit button */\n",
        ".form__submit {\n",
        "    background-color: var(--primary);\n",
        "    color: var(--text-light);\n",
        "    padding: 10px 20px;\n",
        "    border: none;\n",
        "    border-radius: 4px;\n",
        "    font-size: 1rem;\n",
        "    cursor: pointer;\n",
        "}\n",
        "\n",
        ".form__submit:hover {\n",
        "    background-color: var(--accent);\n",
        "}\n"
      ],
      "metadata": {
        "id": "FGgVbYY11KFF"
      },
      "execution_count": null,
      "outputs": []
    },
    {
      "cell_type": "markdown",
      "source": [
        "* --bg-preferences: rgba(30, 144, 255, 0.1); – shows how to apply opacity using rgba().\n",
        "\n",
        "* Custom color variables make it easy to update the whole theme.\n",
        "\n",
        "* Clean structure with BEM-style class names, e.g. form__input, form__section--preferences.\n",
        "\n"
      ],
      "metadata": {
        "id": "0LTSlcHB1NgX"
      }
    }
  ]
}